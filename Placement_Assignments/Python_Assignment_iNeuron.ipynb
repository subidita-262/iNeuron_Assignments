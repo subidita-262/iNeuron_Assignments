{
  "nbformat": 4,
  "nbformat_minor": 0,
  "metadata": {
    "colab": {
      "name": "Python_Assignment_iNeuron.ipynb",
      "provenance": [],
      "collapsed_sections": []
    },
    "kernelspec": {
      "name": "python3",
      "display_name": "Python 3"
    },
    "language_info": {
      "name": "python"
    }
  },
  "cells": [
    {
      "cell_type": "markdown",
      "source": [
        "### 1. Create a function in python to read the text file and replace specific content of the file."
      ],
      "metadata": {
        "id": "rtKGIVi5ltuL"
      }
    },
    {
      "cell_type": "code",
      "execution_count": null,
      "metadata": {
        "colab": {
          "base_uri": "https://localhost:8080/"
        },
        "id": "zRff6kZTk7gV",
        "outputId": "4104f9dc-d720-4e19-8c2e-5d7ff32013e4"
      },
      "outputs": [
        {
          "output_type": "stream",
          "name": "stdout",
          "text": [
            "Enter the text to be replaced:placement\n",
            "Enter the new text:screening\n",
            "Successfully replaced\n"
          ]
        }
      ],
      "source": [
        "def replaceFile(fname):\n",
        "\toldText = input(\"Enter the text to be replaced:\")\n",
        "\tnewText = input(\"Enter the new text:\")\n",
        "\twith open(fname,\"r\") as file:\n",
        "\n",
        "\t\tdata = file.read()\n",
        "\t\treplacedData = data.replace(oldText, newText)\n",
        "\t\n",
        "\n",
        "\twith open(fname, \"w\") as wfile:\n",
        "\t\twfile.write(replacedData)\n",
        "\t\t\n",
        "\t\tprint(\"Successfully replaced\")\n",
        "\n",
        "replaceFile(\"File1.txt\")\n"
      ]
    },
    {
      "cell_type": "markdown",
      "source": [
        "### 2.\tDemonstrate use of abstract class, multiple inheritance and decorator in python using examples.\n"
      ],
      "metadata": {
        "id": "q8pQNzzvlq5u"
      }
    },
    {
      "cell_type": "markdown",
      "source": [
        "Abstract Class : It's a blueprint of other classes which implements it. Abstract class contains one or more abstract methods to define the functionality and structure of the class to be implemented in the child classes. It provides the interface which can be implemented differently by different classes with a common interface that helps a team to collaborate effectively."
      ],
      "metadata": {
        "id": "YPsq34QDD-6d"
      }
    },
    {
      "cell_type": "code",
      "source": [
        "# Abstract Class Example\n",
        "\n",
        "from abc import ABC, abstractmethod\n",
        "class Animal(ABC):\n",
        " \n",
        "    def speak(self):\n",
        "        pass\n",
        " \n",
        "class Human(Animal):\n",
        " \n",
        "    def speak(self):\n",
        "        print(\"I speak languages\")\n",
        "\n",
        "class Dog(Animal):\n",
        " \n",
        "    def speak(self):\n",
        "        print(\"I bark\")\n",
        "\n",
        "class Lion(Animal):\n",
        " \n",
        "    def speak(self):\n",
        "        print(\"I roar\")\n",
        "\n",
        "H = Human()\n",
        "H.speak()\n",
        "\n",
        "D = Dog()\n",
        "D.speak()\n",
        "\n",
        "L = Lion()\n",
        "L.speak()"
      ],
      "metadata": {
        "id": "qAZmcRrolnQ9",
        "colab": {
          "base_uri": "https://localhost:8080/"
        },
        "outputId": "9a060ffe-b262-4853-dc1f-98a853444d87"
      },
      "execution_count": null,
      "outputs": [
        {
          "output_type": "stream",
          "name": "stdout",
          "text": [
            "I speak languages\n",
            "I bark\n",
            "I roar\n"
          ]
        }
      ]
    },
    {
      "cell_type": "markdown",
      "source": [
        "Multiple Inheritence : When a class(child) derive properties or inherits from multiple parent classes it inherits all the methods of the parent class, it's called multiple inheritance. It enables code reusability without declaring it in the child class. Child class can override the methods of parent class if required"
      ],
      "metadata": {
        "id": "PfGce4bvxcnV"
      }
    },
    {
      "cell_type": "code",
      "source": [
        "class Food:\n",
        "    def m(self):\n",
        "        print(\"In Food class\")\n",
        "       \n",
        "class Pizza(Food):\n",
        "    def m(self):\n",
        "        print(\"In Pizza\") #Override parent class method\n",
        " \n",
        "class Burger(Food):\n",
        "    def m(self):\n",
        "        print(\"In Burger\") #Override parent class method\n",
        "        \n",
        "class JunkFood(Pizza, Burger): #Multiple inheritence\n",
        "    pass  \n",
        "     \n",
        "obj = JunkFood()\n",
        "obj.m() #Overriden method in Pizza class"
      ],
      "metadata": {
        "colab": {
          "base_uri": "https://localhost:8080/"
        },
        "id": "ifTgRhZbyKME",
        "outputId": "a8679fad-ad55-420e-b32c-f6c73fbaf7e6"
      },
      "execution_count": null,
      "outputs": [
        {
          "output_type": "stream",
          "name": "stdout",
          "text": [
            "In Pizza\n"
          ]
        }
      ]
    },
    {
      "cell_type": "markdown",
      "source": [
        "Decorator : It's a powerful tool of Python that allows to wrap another function to programmatically modify to control it's functionality without permanently modifying it, as function can be passed as an argument to another function and can be returned by a function. So, functions are taken as an argument in decorators and called inside a wrapper function."
      ],
      "metadata": {
        "id": "znQw1GNC0SEg"
      }
    },
    {
      "cell_type": "code",
      "source": [
        "def decorator(func):\n",
        "\tdef wrap(*args, **kwargs):\n",
        "\t\t\n",
        "\t\tprint(\"before function Execution\")\n",
        "\t\t\n",
        "\t\t# calling the wrapped function\n",
        "\t\treturned_value = func(*args, **kwargs)\n",
        "\t\tprint(\"after function Execution\")\n",
        "\t\t\n",
        "\t\treturn returned_value\n",
        "\t\t\n",
        "\treturn wrap\n",
        "\n",
        "\n",
        "# adding decorator to the function\n",
        "@decorator\n",
        "def sum_two_numbers(a, b):\n",
        "\tprint(\"Inside the function\")\n",
        "\treturn a + b\n",
        "\n",
        "a, b = 1, 2\n",
        "\n",
        "# getting the value through return of the function\n",
        "print(\"Sum =\", sum_two_numbers(a, b))\n"
      ],
      "metadata": {
        "colab": {
          "base_uri": "https://localhost:8080/"
        },
        "id": "ozC5p_fJnxoS",
        "outputId": "cd2fc4bf-6bb5-4bce-b129-6145fc1410c5"
      },
      "execution_count": 3,
      "outputs": [
        {
          "output_type": "stream",
          "name": "stdout",
          "text": [
            "before function Execution\n",
            "Inside the function\n",
            "after function Execution\n",
            "Sum = 3\n"
          ]
        }
      ]
    },
    {
      "cell_type": "code",
      "source": [
        ""
      ],
      "metadata": {
        "id": "AmFuUCUNtUz7"
      },
      "execution_count": null,
      "outputs": []
    }
  ]
}
